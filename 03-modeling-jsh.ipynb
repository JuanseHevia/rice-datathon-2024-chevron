{
 "cells": [
  {
   "cell_type": "code",
   "execution_count": 2,
   "metadata": {},
   "outputs": [],
   "source": [
    "import pandas as pd\n",
    "import matplotlib.pyplot as plt\n",
    "import numpy as np\n",
    "import seaborn as sns\n",
    "\n",
    "preprocessed = pd.read_csv(\"data/preprocessed.csv\")\n",
    "cluster_features = pd.read_csv(\"data/cluster_label_features.csv\")\n",
    "cluster_features.rename(columns={\"Unnamed: 0\": \"original_index\"}, inplace=True)\n",
    "\n",
    "cluster_features = cluster_features[[\"original_index\", \"cluster\", \"opr_mean_pct_diff\"]].copy()\n",
    "\n",
    "preprocessed = preprocessed.merge(cluster_features, right_on=\"original_index\", left_index=True)\n",
    "preprocessed.drop(columns=[\"original_index\"], inplace=True)\n"
   ]
  },
  {
   "cell_type": "code",
   "execution_count": 3,
   "metadata": {},
   "outputs": [
    {
     "data": {
      "text/html": [
       "<div>\n",
       "<style scoped>\n",
       "    .dataframe tbody tr th:only-of-type {\n",
       "        vertical-align: middle;\n",
       "    }\n",
       "\n",
       "    .dataframe tbody tr th {\n",
       "        vertical-align: top;\n",
       "    }\n",
       "\n",
       "    .dataframe thead th {\n",
       "        text-align: right;\n",
       "    }\n",
       "</style>\n",
       "<table border=\"1\" class=\"dataframe\">\n",
       "  <thead>\n",
       "    <tr style=\"text-align: right;\">\n",
       "      <th></th>\n",
       "      <th>surface_x</th>\n",
       "      <th>surface_y</th>\n",
       "      <th>gross_perforated_length</th>\n",
       "      <th>number_of_stages</th>\n",
       "      <th>total_proppant</th>\n",
       "      <th>total_fluid</th>\n",
       "      <th>true_vertical_depth</th>\n",
       "      <th>ffs_frac_type</th>\n",
       "      <th>bin_lateral_length</th>\n",
       "      <th>relative_well_position</th>\n",
       "      <th>batch_frac_classification</th>\n",
       "      <th>well_family_relationship</th>\n",
       "      <th>frac_seasoning</th>\n",
       "      <th>OilPeakRate</th>\n",
       "      <th>number_of_lateral_stages</th>\n",
       "      <th>cluster</th>\n",
       "      <th>opr_mean_pct_diff</th>\n",
       "    </tr>\n",
       "  </thead>\n",
       "  <tbody>\n",
       "    <tr>\n",
       "      <th>0</th>\n",
       "      <td>1.379916e+06</td>\n",
       "      <td>7.178450e+05</td>\n",
       "      <td>3810.039370</td>\n",
       "      <td>12.000000</td>\n",
       "      <td>286571.42860</td>\n",
       "      <td>1.621424e+06</td>\n",
       "      <td>8801.181102</td>\n",
       "      <td>NaN</td>\n",
       "      <td>1.0</td>\n",
       "      <td>Standalone Well</td>\n",
       "      <td>Non-Batch Frac</td>\n",
       "      <td>Standalone Well</td>\n",
       "      <td>4.532599</td>\n",
       "      <td>10.785716</td>\n",
       "      <td>317.503281</td>\n",
       "      <td>5</td>\n",
       "      <td>-0.35423</td>\n",
       "    </tr>\n",
       "    <tr>\n",
       "      <th>1</th>\n",
       "      <td>1.384891e+06</td>\n",
       "      <td>7.065820e+05</td>\n",
       "      <td>4017.716535</td>\n",
       "      <td>11.000000</td>\n",
       "      <td>135363.78570</td>\n",
       "      <td>1.016599e+06</td>\n",
       "      <td>8605.314961</td>\n",
       "      <td>NaN</td>\n",
       "      <td>1.0</td>\n",
       "      <td>Outer Well</td>\n",
       "      <td>Non-Batch Frac</td>\n",
       "      <td>Infill Child Well</td>\n",
       "      <td>3.367296</td>\n",
       "      <td>83.512989</td>\n",
       "      <td>365.246958</td>\n",
       "      <td>5</td>\n",
       "      <td>-0.35423</td>\n",
       "    </tr>\n",
       "    <tr>\n",
       "      <th>2</th>\n",
       "      <td>1.389082e+06</td>\n",
       "      <td>7.167512e+05</td>\n",
       "      <td>3355.314961</td>\n",
       "      <td>10.269002</td>\n",
       "      <td>111142.85710</td>\n",
       "      <td>5.621877e+05</td>\n",
       "      <td>8718.503937</td>\n",
       "      <td>Slickwater Crosslink Hybrid</td>\n",
       "      <td>1.0</td>\n",
       "      <td>Standalone Well</td>\n",
       "      <td>Non-Batch Frac</td>\n",
       "      <td>Standalone Well</td>\n",
       "      <td>3.465736</td>\n",
       "      <td>35.415958</td>\n",
       "      <td>269.677399</td>\n",
       "      <td>5</td>\n",
       "      <td>-0.35423</td>\n",
       "    </tr>\n",
       "    <tr>\n",
       "      <th>3</th>\n",
       "      <td>1.390003e+06</td>\n",
       "      <td>7.058670e+05</td>\n",
       "      <td>3786.417323</td>\n",
       "      <td>11.467878</td>\n",
       "      <td>93000.00000</td>\n",
       "      <td>6.713527e+05</td>\n",
       "      <td>8544.291339</td>\n",
       "      <td>Slickwater Crosslink Hybrid</td>\n",
       "      <td>1.0</td>\n",
       "      <td>Outer Well</td>\n",
       "      <td>Non-Batch Frac</td>\n",
       "      <td>Sibling Well</td>\n",
       "      <td>3.044522</td>\n",
       "      <td>207.392492</td>\n",
       "      <td>297.963085</td>\n",
       "      <td>5</td>\n",
       "      <td>-0.35423</td>\n",
       "    </tr>\n",
       "    <tr>\n",
       "      <th>4</th>\n",
       "      <td>1.386198e+06</td>\n",
       "      <td>7.063927e+05</td>\n",
       "      <td>3535.433071</td>\n",
       "      <td>11.025602</td>\n",
       "      <td>117142.85710</td>\n",
       "      <td>4.401761e+05</td>\n",
       "      <td>8627.952756</td>\n",
       "      <td>Slickwater Crosslink Hybrid</td>\n",
       "      <td>1.0</td>\n",
       "      <td>Inner Well</td>\n",
       "      <td>Non-Batch Frac</td>\n",
       "      <td>Infill Child Well</td>\n",
       "      <td>3.988984</td>\n",
       "      <td>34.520720</td>\n",
       "      <td>280.922628</td>\n",
       "      <td>5</td>\n",
       "      <td>-0.35423</td>\n",
       "    </tr>\n",
       "    <tr>\n",
       "      <th>...</th>\n",
       "      <td>...</td>\n",
       "      <td>...</td>\n",
       "      <td>...</td>\n",
       "      <td>...</td>\n",
       "      <td>...</td>\n",
       "      <td>...</td>\n",
       "      <td>...</td>\n",
       "      <td>...</td>\n",
       "      <td>...</td>\n",
       "      <td>...</td>\n",
       "      <td>...</td>\n",
       "      <td>...</td>\n",
       "      <td>...</td>\n",
       "      <td>...</td>\n",
       "      <td>...</td>\n",
       "      <td>...</td>\n",
       "      <td>...</td>\n",
       "    </tr>\n",
       "    <tr>\n",
       "      <th>12966</th>\n",
       "      <td>9.326688e+05</td>\n",
       "      <td>1.059044e+06</td>\n",
       "      <td>1537.401575</td>\n",
       "      <td>6.000000</td>\n",
       "      <td>36657.85714</td>\n",
       "      <td>3.105691e+05</td>\n",
       "      <td>8313.976378</td>\n",
       "      <td>Slickwater Crosslink Hybrid</td>\n",
       "      <td>0.0</td>\n",
       "      <td>Standalone Well</td>\n",
       "      <td>Non-Batch Frac</td>\n",
       "      <td>Standalone Well</td>\n",
       "      <td>3.784190</td>\n",
       "      <td>30.071433</td>\n",
       "      <td>0.000000</td>\n",
       "      <td>2</td>\n",
       "      <td>0.19110</td>\n",
       "    </tr>\n",
       "    <tr>\n",
       "      <th>12967</th>\n",
       "      <td>9.334519e+05</td>\n",
       "      <td>1.056947e+06</td>\n",
       "      <td>1648.622047</td>\n",
       "      <td>7.022801</td>\n",
       "      <td>73000.00000</td>\n",
       "      <td>2.718752e+05</td>\n",
       "      <td>8346.456693</td>\n",
       "      <td>Crosslink Only</td>\n",
       "      <td>0.0</td>\n",
       "      <td>Standalone Well</td>\n",
       "      <td>Non-Batch Frac</td>\n",
       "      <td>Standalone Well</td>\n",
       "      <td>3.555348</td>\n",
       "      <td>2.912841</td>\n",
       "      <td>174.981365</td>\n",
       "      <td>2</td>\n",
       "      <td>0.19110</td>\n",
       "    </tr>\n",
       "    <tr>\n",
       "      <th>12968</th>\n",
       "      <td>9.411536e+05</td>\n",
       "      <td>9.364229e+05</td>\n",
       "      <td>4194.881890</td>\n",
       "      <td>19.000000</td>\n",
       "      <td>124907.28570</td>\n",
       "      <td>1.018071e+06</td>\n",
       "      <td>11594.488190</td>\n",
       "      <td>Crosslink Only</td>\n",
       "      <td>1.0</td>\n",
       "      <td>Standalone Well</td>\n",
       "      <td>Non-Batch Frac</td>\n",
       "      <td>Standalone Well</td>\n",
       "      <td>2.302585</td>\n",
       "      <td>292.226236</td>\n",
       "      <td>220.783257</td>\n",
       "      <td>2</td>\n",
       "      <td>0.19110</td>\n",
       "    </tr>\n",
       "    <tr>\n",
       "      <th>12969</th>\n",
       "      <td>9.669162e+05</td>\n",
       "      <td>1.057804e+06</td>\n",
       "      <td>3660.433071</td>\n",
       "      <td>11.449393</td>\n",
       "      <td>87857.14286</td>\n",
       "      <td>6.214390e+05</td>\n",
       "      <td>8640.748031</td>\n",
       "      <td>Slickwater Crosslink Hybrid</td>\n",
       "      <td>1.0</td>\n",
       "      <td>Standalone Well</td>\n",
       "      <td>Non-Batch Frac</td>\n",
       "      <td>Standalone Well</td>\n",
       "      <td>4.290459</td>\n",
       "      <td>7.171827</td>\n",
       "      <td>291.666202</td>\n",
       "      <td>2</td>\n",
       "      <td>0.19110</td>\n",
       "    </tr>\n",
       "    <tr>\n",
       "      <th>12970</th>\n",
       "      <td>9.462629e+05</td>\n",
       "      <td>1.034169e+06</td>\n",
       "      <td>5930.118110</td>\n",
       "      <td>23.242442</td>\n",
       "      <td>383857.14290</td>\n",
       "      <td>1.956479e+06</td>\n",
       "      <td>8389.763780</td>\n",
       "      <td>Crosslink Only</td>\n",
       "      <td>1.0</td>\n",
       "      <td>Standalone Well</td>\n",
       "      <td>Non-Batch Frac</td>\n",
       "      <td>Standalone Well</td>\n",
       "      <td>2.772589</td>\n",
       "      <td>336.044270</td>\n",
       "      <td>365.883746</td>\n",
       "      <td>2</td>\n",
       "      <td>0.19110</td>\n",
       "    </tr>\n",
       "  </tbody>\n",
       "</table>\n",
       "<p>12971 rows × 17 columns</p>\n",
       "</div>"
      ],
      "text/plain": [
       "          surface_x     surface_y  gross_perforated_length  number_of_stages  \\\n",
       "0      1.379916e+06  7.178450e+05              3810.039370         12.000000   \n",
       "1      1.384891e+06  7.065820e+05              4017.716535         11.000000   \n",
       "2      1.389082e+06  7.167512e+05              3355.314961         10.269002   \n",
       "3      1.390003e+06  7.058670e+05              3786.417323         11.467878   \n",
       "4      1.386198e+06  7.063927e+05              3535.433071         11.025602   \n",
       "...             ...           ...                      ...               ...   \n",
       "12966  9.326688e+05  1.059044e+06              1537.401575          6.000000   \n",
       "12967  9.334519e+05  1.056947e+06              1648.622047          7.022801   \n",
       "12968  9.411536e+05  9.364229e+05              4194.881890         19.000000   \n",
       "12969  9.669162e+05  1.057804e+06              3660.433071         11.449393   \n",
       "12970  9.462629e+05  1.034169e+06              5930.118110         23.242442   \n",
       "\n",
       "       total_proppant   total_fluid  true_vertical_depth  \\\n",
       "0        286571.42860  1.621424e+06          8801.181102   \n",
       "1        135363.78570  1.016599e+06          8605.314961   \n",
       "2        111142.85710  5.621877e+05          8718.503937   \n",
       "3         93000.00000  6.713527e+05          8544.291339   \n",
       "4        117142.85710  4.401761e+05          8627.952756   \n",
       "...               ...           ...                  ...   \n",
       "12966     36657.85714  3.105691e+05          8313.976378   \n",
       "12967     73000.00000  2.718752e+05          8346.456693   \n",
       "12968    124907.28570  1.018071e+06         11594.488190   \n",
       "12969     87857.14286  6.214390e+05          8640.748031   \n",
       "12970    383857.14290  1.956479e+06          8389.763780   \n",
       "\n",
       "                     ffs_frac_type  bin_lateral_length relative_well_position  \\\n",
       "0                              NaN                 1.0        Standalone Well   \n",
       "1                              NaN                 1.0             Outer Well   \n",
       "2      Slickwater Crosslink Hybrid                 1.0        Standalone Well   \n",
       "3      Slickwater Crosslink Hybrid                 1.0             Outer Well   \n",
       "4      Slickwater Crosslink Hybrid                 1.0             Inner Well   \n",
       "...                            ...                 ...                    ...   \n",
       "12966  Slickwater Crosslink Hybrid                 0.0        Standalone Well   \n",
       "12967               Crosslink Only                 0.0        Standalone Well   \n",
       "12968               Crosslink Only                 1.0        Standalone Well   \n",
       "12969  Slickwater Crosslink Hybrid                 1.0        Standalone Well   \n",
       "12970               Crosslink Only                 1.0        Standalone Well   \n",
       "\n",
       "      batch_frac_classification well_family_relationship  frac_seasoning  \\\n",
       "0                Non-Batch Frac          Standalone Well        4.532599   \n",
       "1                Non-Batch Frac        Infill Child Well        3.367296   \n",
       "2                Non-Batch Frac          Standalone Well        3.465736   \n",
       "3                Non-Batch Frac             Sibling Well        3.044522   \n",
       "4                Non-Batch Frac        Infill Child Well        3.988984   \n",
       "...                         ...                      ...             ...   \n",
       "12966            Non-Batch Frac          Standalone Well        3.784190   \n",
       "12967            Non-Batch Frac          Standalone Well        3.555348   \n",
       "12968            Non-Batch Frac          Standalone Well        2.302585   \n",
       "12969            Non-Batch Frac          Standalone Well        4.290459   \n",
       "12970            Non-Batch Frac          Standalone Well        2.772589   \n",
       "\n",
       "       OilPeakRate  number_of_lateral_stages  cluster  opr_mean_pct_diff  \n",
       "0        10.785716                317.503281        5           -0.35423  \n",
       "1        83.512989                365.246958        5           -0.35423  \n",
       "2        35.415958                269.677399        5           -0.35423  \n",
       "3       207.392492                297.963085        5           -0.35423  \n",
       "4        34.520720                280.922628        5           -0.35423  \n",
       "...            ...                       ...      ...                ...  \n",
       "12966    30.071433                  0.000000        2            0.19110  \n",
       "12967     2.912841                174.981365        2            0.19110  \n",
       "12968   292.226236                220.783257        2            0.19110  \n",
       "12969     7.171827                291.666202        2            0.19110  \n",
       "12970   336.044270                365.883746        2            0.19110  \n",
       "\n",
       "[12971 rows x 17 columns]"
      ]
     },
     "execution_count": 3,
     "metadata": {},
     "output_type": "execute_result"
    }
   ],
   "source": [
    "preprocessed"
   ]
  },
  {
   "cell_type": "markdown",
   "metadata": {},
   "source": [
    "## Clean nulls"
   ]
  },
  {
   "cell_type": "code",
   "execution_count": 4,
   "metadata": {},
   "outputs": [
    {
     "name": "stdout",
     "output_type": "stream",
     "text": [
      "<class 'pandas.core.frame.DataFrame'>\n",
      "Index: 12971 entries, 0 to 12970\n",
      "Data columns (total 17 columns):\n",
      " #   Column                     Non-Null Count  Dtype  \n",
      "---  ------                     --------------  -----  \n",
      " 0   surface_x                  12971 non-null  float64\n",
      " 1   surface_y                  12971 non-null  float64\n",
      " 2   gross_perforated_length    12971 non-null  float64\n",
      " 3   number_of_stages           12971 non-null  float64\n",
      " 4   total_proppant             12971 non-null  float64\n",
      " 5   total_fluid                12971 non-null  float64\n",
      " 6   true_vertical_depth        12956 non-null  float64\n",
      " 7   ffs_frac_type              12674 non-null  object \n",
      " 8   bin_lateral_length         12971 non-null  float64\n",
      " 9   relative_well_position     12971 non-null  object \n",
      " 10  batch_frac_classification  12971 non-null  object \n",
      " 11  well_family_relationship   12971 non-null  object \n",
      " 12  frac_seasoning             12971 non-null  float64\n",
      " 13  OilPeakRate                12971 non-null  float64\n",
      " 14  number_of_lateral_stages   12971 non-null  float64\n",
      " 15  cluster                    12971 non-null  int64  \n",
      " 16  opr_mean_pct_diff          12971 non-null  float64\n",
      "dtypes: float64(12), int64(1), object(4)\n",
      "memory usage: 1.8+ MB\n"
     ]
    }
   ],
   "source": [
    "preprocessed.info()"
   ]
  },
  {
   "cell_type": "code",
   "execution_count": 5,
   "metadata": {},
   "outputs": [
    {
     "data": {
      "text/plain": [
       "surface_x                    False\n",
       "surface_y                    False\n",
       "gross_perforated_length      False\n",
       "number_of_stages             False\n",
       "total_proppant               False\n",
       "total_fluid                  False\n",
       "true_vertical_depth           True\n",
       "ffs_frac_type                 True\n",
       "bin_lateral_length           False\n",
       "relative_well_position       False\n",
       "batch_frac_classification    False\n",
       "well_family_relationship     False\n",
       "frac_seasoning               False\n",
       "OilPeakRate                  False\n",
       "number_of_lateral_stages     False\n",
       "cluster                      False\n",
       "opr_mean_pct_diff            False\n",
       "dtype: bool"
      ]
     },
     "execution_count": 5,
     "metadata": {},
     "output_type": "execute_result"
    }
   ],
   "source": [
    "preprocessed.isnull().any()"
   ]
  },
  {
   "cell_type": "code",
   "execution_count": 6,
   "metadata": {},
   "outputs": [
    {
     "data": {
      "text/plain": [
       "surface_x                    0.000000\n",
       "surface_y                    0.000000\n",
       "gross_perforated_length      0.000000\n",
       "number_of_stages             0.000000\n",
       "total_proppant               0.000000\n",
       "total_fluid                  0.000000\n",
       "true_vertical_depth          0.001156\n",
       "ffs_frac_type                0.022897\n",
       "bin_lateral_length           0.000000\n",
       "relative_well_position       0.000000\n",
       "batch_frac_classification    0.000000\n",
       "well_family_relationship     0.000000\n",
       "frac_seasoning               0.000000\n",
       "OilPeakRate                  0.000000\n",
       "number_of_lateral_stages     0.000000\n",
       "cluster                      0.000000\n",
       "opr_mean_pct_diff            0.000000\n",
       "dtype: float64"
      ]
     },
     "execution_count": 6,
     "metadata": {},
     "output_type": "execute_result"
    }
   ],
   "source": [
    "preprocessed.isnull().sum() / preprocessed.shape[0]"
   ]
  },
  {
   "cell_type": "code",
   "execution_count": 7,
   "metadata": {},
   "outputs": [],
   "source": [
    "# use mean imputation to cover nulls\n",
    "preprocessed[\"gross_perforated_length\"] = preprocessed[\"gross_perforated_length\"].fillna(preprocessed[\"gross_perforated_length\"].mean())\n",
    "preprocessed[\"total_proppant\"] = preprocessed[\"total_proppant\"].fillna(preprocessed[\"total_proppant\"].mean())\n",
    "preprocessed[\"total_fluid\"] = preprocessed[\"total_fluid\"].fillna(preprocessed[\"total_fluid\"].mean())\n",
    "preprocessed[\"bin_lateral_length\"] = preprocessed[\"bin_lateral_length\"].fillna(preprocessed[\"bin_lateral_length\"].mean())\n",
    "preprocessed[\"true_vertical_depth\"] = preprocessed[\"true_vertical_depth\"].fillna(preprocessed[\"true_vertical_depth\"].mean())\n",
    "# preprocessed[\"ffs_frac_type\"] = preprocessed[\"ffs_frac_type\"].fillna(preprocessed[\"true_vertical_depth\"].mean())"
   ]
  },
  {
   "cell_type": "code",
   "execution_count": 8,
   "metadata": {},
   "outputs": [
    {
     "data": {
      "text/plain": [
       "surface_x                    False\n",
       "surface_y                    False\n",
       "gross_perforated_length      False\n",
       "number_of_stages             False\n",
       "total_proppant               False\n",
       "total_fluid                  False\n",
       "true_vertical_depth          False\n",
       "ffs_frac_type                 True\n",
       "bin_lateral_length           False\n",
       "relative_well_position       False\n",
       "batch_frac_classification    False\n",
       "well_family_relationship     False\n",
       "frac_seasoning               False\n",
       "OilPeakRate                  False\n",
       "number_of_lateral_stages     False\n",
       "cluster                      False\n",
       "opr_mean_pct_diff            False\n",
       "dtype: bool"
      ]
     },
     "execution_count": 8,
     "metadata": {},
     "output_type": "execute_result"
    }
   ],
   "source": [
    "preprocessed.isnull().any()"
   ]
  },
  {
   "cell_type": "markdown",
   "metadata": {},
   "source": [
    "# Encode categorical variables"
   ]
  },
  {
   "cell_type": "code",
   "execution_count": 9,
   "metadata": {},
   "outputs": [
    {
     "name": "stdout",
     "output_type": "stream",
     "text": [
      "<class 'pandas.core.frame.DataFrame'>\n",
      "Index: 12971 entries, 0 to 12970\n",
      "Data columns (total 17 columns):\n",
      " #   Column                     Non-Null Count  Dtype  \n",
      "---  ------                     --------------  -----  \n",
      " 0   surface_x                  12971 non-null  float64\n",
      " 1   surface_y                  12971 non-null  float64\n",
      " 2   gross_perforated_length    12971 non-null  float64\n",
      " 3   number_of_stages           12971 non-null  float64\n",
      " 4   total_proppant             12971 non-null  float64\n",
      " 5   total_fluid                12971 non-null  float64\n",
      " 6   true_vertical_depth        12971 non-null  float64\n",
      " 7   ffs_frac_type              12674 non-null  object \n",
      " 8   bin_lateral_length         12971 non-null  float64\n",
      " 9   relative_well_position     12971 non-null  object \n",
      " 10  batch_frac_classification  12971 non-null  object \n",
      " 11  well_family_relationship   12971 non-null  object \n",
      " 12  frac_seasoning             12971 non-null  float64\n",
      " 13  OilPeakRate                12971 non-null  float64\n",
      " 14  number_of_lateral_stages   12971 non-null  float64\n",
      " 15  cluster                    12971 non-null  int64  \n",
      " 16  opr_mean_pct_diff          12971 non-null  float64\n",
      "dtypes: float64(12), int64(1), object(4)\n",
      "memory usage: 1.8+ MB\n"
     ]
    }
   ],
   "source": [
    "preprocessed.info()"
   ]
  },
  {
   "cell_type": "markdown",
   "metadata": {},
   "source": [
    "**ffs_fract_type**"
   ]
  },
  {
   "cell_type": "code",
   "execution_count": 10,
   "metadata": {},
   "outputs": [
    {
     "data": {
      "text/plain": [
       "ffs_frac_type\n",
       "Slickwater Only                0.334978\n",
       "Slickwater Crosslink Hybrid    0.297587\n",
       "Slickwater Linear Hybrid       0.215018\n",
       "Undefined                      0.067458\n",
       "Crosslink Only                 0.057898\n",
       "NaN                            0.022897\n",
       "Linear Only                    0.004163\n",
       "Name: proportion, dtype: float64"
      ]
     },
     "execution_count": 10,
     "metadata": {},
     "output_type": "execute_result"
    }
   ],
   "source": [
    "preprocessed.ffs_frac_type.value_counts(dropna=False, normalize=True)"
   ]
  },
  {
   "cell_type": "code",
   "execution_count": 11,
   "metadata": {},
   "outputs": [
    {
     "data": {
      "text/plain": [
       "ffs_frac_type\n",
       "so           4345\n",
       "sch          3860\n",
       "slh          2789\n",
       "undefined    1172\n",
       "co            751\n",
       "lo             54\n",
       "Name: count, dtype: int64"
      ]
     },
     "execution_count": 11,
     "metadata": {},
     "output_type": "execute_result"
    }
   ],
   "source": [
    "preprocessed.ffs_frac_type = preprocessed.ffs_frac_type.fillna(\"Undefined\").map({\n",
    "    \"Slickwater Crosslink Hybrid\": \"sch\",\n",
    "    \"Slickwater Only\": \"so\",\n",
    "    \"8810.144334222554\": \"number\",\n",
    "    \"Slickwater Linear Hybrid\": \"slh\",\n",
    "    \"Undefined\": \"undefined\",\n",
    "    \"Crosslink Only\": \"co\",\n",
    "    \"Linear Only\": \"lo\",\n",
    "})\n",
    "preprocessed.ffs_frac_type.value_counts(dropna=False)"
   ]
  },
  {
   "cell_type": "code",
   "execution_count": 12,
   "metadata": {},
   "outputs": [
    {
     "data": {
      "text/plain": [
       "Index(['surface_x', 'surface_y', 'gross_perforated_length', 'number_of_stages',\n",
       "       'total_proppant', 'total_fluid', 'true_vertical_depth', 'ffs_frac_type',\n",
       "       'bin_lateral_length', 'relative_well_position',\n",
       "       'batch_frac_classification', 'well_family_relationship',\n",
       "       'frac_seasoning', 'OilPeakRate', 'number_of_lateral_stages', 'cluster',\n",
       "       'opr_mean_pct_diff'],\n",
       "      dtype='object')"
      ]
     },
     "execution_count": 12,
     "metadata": {},
     "output_type": "execute_result"
    }
   ],
   "source": [
    "preprocessed.columns"
   ]
  },
  {
   "cell_type": "markdown",
   "metadata": {},
   "source": [
    "## Get dummies"
   ]
  },
  {
   "cell_type": "code",
   "execution_count": 13,
   "metadata": {},
   "outputs": [
    {
     "data": {
      "text/plain": [
       "(12971, 31)"
      ]
     },
     "execution_count": 13,
     "metadata": {},
     "output_type": "execute_result"
    }
   ],
   "source": [
    "# OHE encode categorical variables\n",
    "ohe_cols = [\"ffs_frac_type\",\n",
    "\"relative_well_position\",\n",
    "\"batch_frac_classification\",\n",
    "\"well_family_relationship\"]\n",
    "\n",
    "for col in ohe_cols:\n",
    "    preprocessed = pd.concat([preprocessed, pd.get_dummies(preprocessed[col], prefix=col)], axis=1)\n",
    "    preprocessed.drop(columns=[col], inplace=True)\n",
    "\n",
    "preprocessed.shape"
   ]
  },
  {
   "cell_type": "markdown",
   "metadata": {},
   "source": [
    "# Randomized Search CV with XGBoost"
   ]
  },
  {
   "cell_type": "code",
   "execution_count": 14,
   "metadata": {},
   "outputs": [],
   "source": [
    "import xgboost as xgb\n",
    "from sklearn.model_selection import RandomizedSearchCV\n",
    "from sklearn.model_selection import train_test_split\n",
    "from sklearn.metrics import mean_squared_error, mean_absolute_error, mean_absolute_percentage_error\n"
   ]
  },
  {
   "cell_type": "code",
   "execution_count": 15,
   "metadata": {},
   "outputs": [],
   "source": [
    "preprocessed.drop(columns=[\"number_of_lateral_stages\"], inplace=True)"
   ]
  },
  {
   "cell_type": "code",
   "execution_count": 24,
   "metadata": {},
   "outputs": [],
   "source": [
    "preprocessed = preprocessed[preprocessed.OilPeakRate <= preprocessed.OilPeakRate.quantile(.99)].copy()"
   ]
  },
  {
   "cell_type": "code",
   "execution_count": 25,
   "metadata": {},
   "outputs": [],
   "source": [
    "TARGET_COL = \"OilPeakRate\"\n",
    "SEED = 1234\n",
    "\n",
    "X = preprocessed.drop(columns=[TARGET_COL] + [\"cluster\"])\n",
    "y = preprocessed[TARGET_COL]\n",
    "\n",
    "X_train, X_test, y_train, y_test = train_test_split(X, y, test_size=0.2, random_state=SEED)"
   ]
  },
  {
   "cell_type": "markdown",
   "metadata": {},
   "source": [
    "# Vanilla model"
   ]
  },
  {
   "cell_type": "code",
   "execution_count": 26,
   "metadata": {},
   "outputs": [
    {
     "name": "stdout",
     "output_type": "stream",
     "text": [
      "MSE:  7134.886827446404\n",
      "MAE:  62.29717619804677\n",
      "MAPE:  0.5607409625871927\n",
      "RMSE:  84.46825928978532\n"
     ]
    }
   ],
   "source": [
    "model = xgb.XGBRegressor(objective=\"reg:squarederror\", random_state=SEED)\n",
    "\n",
    "params = {\n",
    "    \"learning_rate\": [0.01, 0.1, 0.3],\n",
    "    \"max_depth\": [3, 5, 7, 9],\n",
    "    \"min_child_weight\": [1, 3, 5],\n",
    "    \"subsample\": [0.5, 0.7, 0.9],\n",
    "    \"colsample_bytree\": [0.5, 0.7, 0.9],\n",
    "    \"n_estimators\": [100, 200, 300, 500],\n",
    "}\n",
    "\n",
    "search = RandomizedSearchCV(model,\n",
    "                        param_distributions=params,\n",
    "                        n_iter=50,\n",
    "                        scoring=\"neg_mean_squared_error\",\n",
    "                        n_jobs=-1, cv=5, \n",
    "                        verbose=0, random_state=SEED)\n",
    "\n",
    "search.fit(X_train, y_train)\n",
    "\n",
    "y_pred = search.predict(X_test)\n",
    "\n",
    "print(\"MSE: \", mean_squared_error(y_test, y_pred))\n",
    "print(\"MAE: \", mean_absolute_error(y_test, y_pred))\n",
    "print(\"MAPE: \", mean_absolute_percentage_error(y_test, y_pred))\n",
    "print(\"RMSE: \", np.sqrt(mean_squared_error(y_test, y_pred)))"
   ]
  },
  {
   "cell_type": "code",
   "execution_count": 27,
   "metadata": {},
   "outputs": [
    {
     "data": {
      "text/plain": [
       "[<matplotlib.lines.Line2D at 0x166157670>]"
      ]
     },
     "execution_count": 27,
     "metadata": {},
     "output_type": "execute_result"
    },
    {
     "data": {
      "image/png": "[encoded data removed]",
      "text/plain": [
       "<Figure size 640x480 with 1 Axes>"
      ]
     },
     "metadata": {},
     "output_type": "display_data"
    }
   ],
   "source": [
    "plt.scatter(\n",
    "    y_pred,\n",
    "    y_test,\n",
    "    alpha=0.5\n",
    ")\n",
    "\n",
    "plt.plot(np.arange(0, 1000), np.arange(0, 1000), color=\"red\")   "
   ]
  },
  {
   "cell_type": "code",
   "execution_count": 28,
   "metadata": {},
   "outputs": [
    {
     "data": {
      "text/plain": [
       "count    12841.000000\n",
       "mean       222.479640\n",
       "std        134.553798\n",
       "min          0.369048\n",
       "25%        121.642876\n",
       "50%        200.429793\n",
       "75%        301.241316\n",
       "max        703.726299\n",
       "Name: OilPeakRate, dtype: float64"
      ]
     },
     "execution_count": 28,
     "metadata": {},
     "output_type": "execute_result"
    }
   ],
   "source": [
    "preprocessed.OilPeakRate.describe()"
   ]
  },
  {
   "cell_type": "code",
   "execution_count": 29,
   "metadata": {},
   "outputs": [
    {
     "data": {
      "text/plain": [
       "Index(['surface_x', 'surface_y', 'gross_perforated_length', 'number_of_stages',\n",
       "       'total_proppant', 'total_fluid', 'true_vertical_depth',\n",
       "       'bin_lateral_length', 'frac_seasoning', 'OilPeakRate', 'cluster',\n",
       "       'opr_mean_pct_diff', 'ffs_frac_type_co', 'ffs_frac_type_lo',\n",
       "       'ffs_frac_type_sch', 'ffs_frac_type_slh', 'ffs_frac_type_so',\n",
       "       'ffs_frac_type_undefined', 'relative_well_position_Inner Well',\n",
       "       'relative_well_position_Outer Well',\n",
       "       'relative_well_position_Standalone Well',\n",
       "       'relative_well_position_Unknown',\n",
       "       'batch_frac_classification_Batch-Concurrent Frac',\n",
       "       'batch_frac_classification_Batch-Sequential Frac',\n",
       "       'batch_frac_classification_Non-Batch Frac',\n",
       "       'batch_frac_classification_Unknown',\n",
       "       'well_family_relationship_Infill Child Well',\n",
       "       'well_family_relationship_Sibling Well',\n",
       "       'well_family_relationship_Standalone Well',\n",
       "       'well_family_relationship_Unknown'],\n",
       "      dtype='object')"
      ]
     },
     "execution_count": 29,
     "metadata": {},
     "output_type": "execute_result"
    }
   ],
   "source": [
    "preprocessed.columns"
   ]
  },
  {
   "cell_type": "markdown",
   "metadata": {},
   "source": [
    "# Without nulls"
   ]
  },
  {
   "cell_type": "code",
   "execution_count": null,
   "metadata": {},
   "outputs": [],
   "source": []
  }
 ],
 "metadata": {
  "kernelspec": {
   "display_name": "rice",
   "language": "python",
   "name": "python3"
  },
  "language_info": {
   "codemirror_mode": {
    "name": "ipython",
    "version": 3
   },
   "file_extension": ".py",
   "mimetype": "text/x-python",
   "name": "python",
   "nbconvert_exporter": "python",
   "pygments_lexer": "ipython3",
   "version": "3.8.18"
  }
 },
 "nbformat": 4,
 "nbformat_minor": 2
}
