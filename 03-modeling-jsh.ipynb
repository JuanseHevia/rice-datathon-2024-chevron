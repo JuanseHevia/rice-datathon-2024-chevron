{
 "cells": [
  {
   "cell_type": "code",
   "execution_count": 1,
   "metadata": {},
   "outputs": [],
   "source": [
    "import pandas as pd\n",
    "import matplotlib.pyplot as plt\n",
    "import numpy as np\n",
    "import seaborn as sns\n",
    "\n",
    "preprocessed = pd.read_csv(\"data/preprocessed.csv\")\n",
    "cluster_features = pd.read_csv(\"data/cluster_label_features.csv\")\n",
    "cluster_features.rename(columns={\"Unnamed: 0\": \"original_index\"}, inplace=True)\n",
    "\n",
    "cluster_features = cluster_features[[\"original_index\", \"cluster\", \"opr_mean_pct_diff\"]].copy()\n",
    "\n",
    "preprocessed = preprocessed.merge(cluster_features, right_on=\"original_index\", left_index=True)\n",
    "preprocessed.drop(columns=[\"original_index\"], inplace=True)\n"
   ]
  },
  {
   "cell_type": "markdown",
   "metadata": {},
   "source": [
    "## Clean nulls"
   ]
  },
  {
   "cell_type": "code",
   "execution_count": 2,
   "metadata": {},
   "outputs": [],
   "source": [
    "# use mean imputation to cover nulls\n",
    "preprocessed[\"gross_perforated_length\"] = preprocessed[\"gross_perforated_length\"].fillna(preprocessed[\"gross_perforated_length\"].mean())\n",
    "preprocessed[\"total_proppant\"] = preprocessed[\"total_proppant\"].fillna(preprocessed[\"total_proppant\"].mean())\n",
    "preprocessed[\"total_fluid\"] = preprocessed[\"total_fluid\"].fillna(preprocessed[\"total_fluid\"].mean())\n",
    "preprocessed[\"bin_lateral_length\"] = preprocessed[\"bin_lateral_length\"].fillna(preprocessed[\"bin_lateral_length\"].mean())\n",
    "preprocessed[\"true_vertical_depth\"] = preprocessed[\"true_vertical_depth\"].fillna(preprocessed[\"true_vertical_depth\"].mean())\n",
    "# preprocessed[\"ffs_frac_type\"] = preprocessed[\"ffs_frac_type\"].fillna(preprocessed[\"true_vertical_depth\"].mean())"
   ]
  },
  {
   "cell_type": "markdown",
   "metadata": {},
   "source": [
    "# Encode categorical variables"
   ]
  },
  {
   "cell_type": "markdown",
   "metadata": {},
   "source": [
    "**ffs_fract_type**"
   ]
  },
  {
   "cell_type": "code",
   "execution_count": 3,
   "metadata": {},
   "outputs": [
    {
     "data": {
      "text/plain": [
       "ffs_frac_type\n",
       "Slickwater Only                0.334978\n",
       "Slickwater Crosslink Hybrid    0.297587\n",
       "Slickwater Linear Hybrid       0.215018\n",
       "Undefined                      0.067458\n",
       "Crosslink Only                 0.057898\n",
       "NaN                            0.022897\n",
       "Linear Only                    0.004163\n",
       "Name: proportion, dtype: float64"
      ]
     },
     "execution_count": 3,
     "metadata": {},
     "output_type": "execute_result"
    }
   ],
   "source": [
    "preprocessed.ffs_frac_type.value_counts(dropna=False, normalize=True)"
   ]
  },
  {
   "cell_type": "code",
   "execution_count": 4,
   "metadata": {},
   "outputs": [
    {
     "data": {
      "text/plain": [
       "ffs_frac_type\n",
       "so           4345\n",
       "sch          3860\n",
       "slh          2789\n",
       "undefined    1172\n",
       "co            751\n",
       "lo             54\n",
       "Name: count, dtype: int64"
      ]
     },
     "execution_count": 4,
     "metadata": {},
     "output_type": "execute_result"
    }
   ],
   "source": [
    "preprocessed.ffs_frac_type = preprocessed.ffs_frac_type.fillna(\"Undefined\").map({\n",
    "    \"Slickwater Crosslink Hybrid\": \"sch\",\n",
    "    \"Slickwater Only\": \"so\",\n",
    "    \"8810.144334222554\": \"number\",\n",
    "    \"Slickwater Linear Hybrid\": \"slh\",\n",
    "    \"Undefined\": \"undefined\",\n",
    "    \"Crosslink Only\": \"co\",\n",
    "    \"Linear Only\": \"lo\",\n",
    "})\n",
    "preprocessed.ffs_frac_type.value_counts(dropna=False)"
   ]
  },
  {
   "cell_type": "markdown",
   "metadata": {},
   "source": [
    "## Get dummies"
   ]
  },
  {
   "cell_type": "code",
   "execution_count": 5,
   "metadata": {},
   "outputs": [
    {
     "data": {
      "text/plain": [
       "(12971, 31)"
      ]
     },
     "execution_count": 5,
     "metadata": {},
     "output_type": "execute_result"
    }
   ],
   "source": [
    "# OHE encode categorical variables\n",
    "ohe_cols = [\"ffs_frac_type\",\n",
    "\"relative_well_position\",\n",
    "\"batch_frac_classification\",\n",
    "\"well_family_relationship\"]\n",
    "\n",
    "for col in ohe_cols:\n",
    "    preprocessed = pd.concat([preprocessed, pd.get_dummies(preprocessed[col], prefix=col)], axis=1)\n",
    "    preprocessed.drop(columns=[col], inplace=True)\n",
    "\n",
    "preprocessed.shape"
   ]
  },
  {
   "cell_type": "markdown",
   "metadata": {},
   "source": [
    "# Randomized Search CV with XGBoost"
   ]
  },
  {
   "cell_type": "code",
   "execution_count": 6,
   "metadata": {},
   "outputs": [],
   "source": [
    "import xgboost as xgb\n",
    "from sklearn.model_selection import RandomizedSearchCV\n",
    "from sklearn.model_selection import train_test_split\n",
    "from sklearn.metrics import mean_squared_error, mean_absolute_error, mean_absolute_percentage_error\n"
   ]
  },
  {
   "cell_type": "code",
   "execution_count": 7,
   "metadata": {},
   "outputs": [],
   "source": [
    "preprocessed.drop(columns=[\"number_of_lateral_stages\"], inplace=True)"
   ]
  },
  {
   "cell_type": "code",
   "execution_count": 10,
   "metadata": {},
   "outputs": [],
   "source": [
    "TARGET_COL = \"OilPeakRate\"\n",
    "SEED = 1234\n",
    "\n",
    "X = preprocessed.drop(columns=[TARGET_COL] + [\"cluster\"])\n",
    "y = preprocessed[TARGET_COL]\n",
    "\n",
    "X_train, X_test, y_train, y_test = train_test_split(X, y, test_size=0.2, random_state=SEED)"
   ]
  },
  {
   "cell_type": "markdown",
   "metadata": {},
   "source": [
    "# Vanilla model"
   ]
  },
  {
   "cell_type": "code",
   "execution_count": null,
   "metadata": {},
   "outputs": [],
   "source": [
    "tree_params = {\n",
    "    \"max_depth\": np.linspace(100, 1200, num=8, dtype=int),\n",
    "}"
   ]
  },
  {
   "cell_type": "code",
   "execution_count": 17,
   "metadata": {},
   "outputs": [
    {
     "name": "stdout",
     "output_type": "stream",
     "text": [
      "MSE:  9821.580437088767\n",
      "MAE:  64.97298376011557\n",
      "MAPE:  0.5815047767210519\n",
      "RMSE:  99.10388709374001\n"
     ]
    }
   ],
   "source": [
    "model = xgb.XGBRegressor(objective=\"reg:squarederror\", random_state=SEED)\n",
    "\n",
    "params = {\n",
    "    \"learning_rate\": [0.01, 0.1, 0.3],\n",
    "    \"max_depth\": [3, 5, 7, 9],\n",
    "    \"min_child_weight\": [1, 3, 5],\n",
    "    \"subsample\": [0.5, 0.7, 0.9],\n",
    "    \"colsample_bytree\": [0.5, 0.7, 0.9],\n",
    "    \"n_estimators\": [100, 200, 300, 500],\n",
    "}\n",
    "\n",
    "search = RandomizedSearchCV(model,\n",
    "                        param_distributions=params,\n",
    "                        n_iter=50,\n",
    "                        scoring=\"neg_mean_squared_error\",\n",
    "                        n_jobs=-1, cv=5, \n",
    "                        verbose=0, random_state=SEED)\n",
    "\n",
    "search.fit(X_train, y_train)\n",
    "\n",
    "y_pred = search.predict(X_test)\n",
    "\n",
    "print(\"MSE: \", mean_squared_error(y_test, y_pred))\n",
    "print(\"MAE: \", mean_absolute_error(y_test, y_pred))\n",
    "print(\"MAPE: \", mean_absolute_percentage_error(y_test, y_pred))\n",
    "print(\"RMSE: \", np.sqrt(mean_squared_error(y_test, y_pred)))"
   ]
  },
  {
   "cell_type": "code",
   "execution_count": 15,
   "metadata": {},
   "outputs": [
    {
     "data": {
      "text/plain": [
       "[<matplotlib.lines.Line2D at 0x17fcac760>]"
      ]
     },
     "execution_count": 15,
     "metadata": {},
     "output_type": "execute_result"
    },
    {
     "data": {
      "image/png": "[encoded data removed]",
      "text/plain": [
       "<Figure size 640x480 with 1 Axes>"
      ]
     },
     "metadata": {},
     "output_type": "display_data"
    }
   ],
   "source": [
    "plt.scatter(\n",
    "    y_pred,\n",
    "    y_test,\n",
    "    alpha=0.5\n",
    ")\n",
    "\n",
    "plt.plot(np.arange(0, 1000), np.arange(0, 1000), color=\"red\")   "
   ]
  },
  {
   "cell_type": "code",
   "execution_count": 13,
   "metadata": {},
   "outputs": [
    {
     "data": {
      "text/plain": [
       "count    12971.000000\n",
       "mean       229.236910\n",
       "std        152.411143\n",
       "min          0.369048\n",
       "25%        122.245654\n",
       "50%        202.594873\n",
       "75%        304.238142\n",
       "max       2855.469490\n",
       "Name: OilPeakRate, dtype: float64"
      ]
     },
     "execution_count": 13,
     "metadata": {},
     "output_type": "execute_result"
    }
   ],
   "source": [
    "preprocessed.OilPeakRate.describe()"
   ]
  },
  {
   "cell_type": "code",
   "execution_count": null,
   "metadata": {},
   "outputs": [],
   "source": []
  }
 ],
 "metadata": {
  "kernelspec": {
   "display_name": "rice",
   "language": "python",
   "name": "python3"
  },
  "language_info": {
   "codemirror_mode": {
    "name": "ipython",
    "version": 3
   },
   "file_extension": ".py",
   "mimetype": "text/x-python",
   "name": "python",
   "nbconvert_exporter": "python",
   "pygments_lexer": "ipython3",
   "version": "3.8.18"
  }
 },
 "nbformat": 4,
 "nbformat_minor": 2
}
